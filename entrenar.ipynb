{
  "nbformat": 4,
  "nbformat_minor": 0,
  "metadata": {
    "colab": {
      "provenance": [],
      "gpuType": "T4",
      "authorship_tag": "ABX9TyPhOfZgNCjPI/HupzpdvjB9",
      "include_colab_link": true
    },
    "kernelspec": {
      "name": "python3",
      "display_name": "Python 3"
    },
    "language_info": {
      "name": "python"
    },
    "accelerator": "GPU"
  },
  "cells": [
    {
      "cell_type": "markdown",
      "metadata": {
        "id": "view-in-github",
        "colab_type": "text"
      },
      "source": [
        "<a href=\"https://colab.research.google.com/github/edwin71332/lenguajeSE/blob/colab/entrenar.ipynb\" target=\"_parent\"><img src=\"https://colab.research.google.com/assets/colab-badge.svg\" alt=\"Open In Colab\"/></a>"
      ]
    },
    {
      "cell_type": "code",
      "execution_count": 2,
      "metadata": {
        "colab": {
          "base_uri": "https://localhost:8080/"
        },
        "id": "HcWjolcrssSU",
        "outputId": "c58e72d6-0409-4c85-b555-9582a5c1968b"
      },
      "outputs": [
        {
          "metadata": {
            "tags": null
          },
          "name": "stdout",
          "output_type": "stream",
          "text": [
            "Drive already mounted at /content/drive; to attempt to forcibly remount, call drive.mount(\"/content/drive\", force_remount=True).\n",
            "Download already complete (1100887034 bytes).\n",
            "Extracting files...\n",
            "Path to dataset files: /root/.cache/kagglehub/datasets/grassknoted/asl-alphabet/versions/1\n",
            "Found 69623 images belonging to 2 classes.\n",
            "Found 17405 images belonging to 2 classes.\n"
          ]
        },
        {
          "metadata": {
            "tags": null
          },
          "name": "stderr",
          "output_type": "stream",
          "text": [
            "/usr/local/lib/python3.11/dist-packages/keras/src/layers/convolutional/base_conv.py:107: UserWarning: Do not pass an `input_shape`/`input_dim` argument to a layer. When using Sequential models, prefer using an `Input(shape)` object as the first layer in the model instead.\n",
            "  super().__init__(activity_regularizer=activity_regularizer, **kwargs)\n",
            "/usr/local/lib/python3.11/dist-packages/keras/src/trainers/data_adapters/py_dataset_adapter.py:121: UserWarning: Your `PyDataset` class should call `super().__init__(**kwargs)` in its constructor. `**kwargs` can include `workers`, `use_multiprocessing`, `max_queue_size`. Do not pass these arguments to `fit()`, as they will be ignored.\n",
            "  self._warn_if_super_not_called()\n"
          ]
        },
        {
          "output_type": "stream",
          "name": "stdout",
          "text": [
            "Epoch 1/15\n",
            "\u001b[1m2176/2176\u001b[0m \u001b[32m━━━━━━━━━━━━━━━━━━━━\u001b[0m\u001b[37m\u001b[0m \u001b[1m0s\u001b[0m 360ms/step - accuracy: 0.9972 - loss: 0.0402\n",
            "Epoch 1: val_loss improved from inf to 0.00404, saving model to /content/drive/MyDrive/mi_modelo_checkpoint.keras\n",
            "\u001b[1m2176/2176\u001b[0m \u001b[32m━━━━━━━━━━━━━━━━━━━━\u001b[0m\u001b[37m\u001b[0m \u001b[1m989s\u001b[0m 451ms/step - accuracy: 0.9972 - loss: 0.0402 - val_accuracy: 0.9997 - val_loss: 0.0040\n",
            "Epoch 2/15\n",
            "\u001b[1m2176/2176\u001b[0m \u001b[32m━━━━━━━━━━━━━━━━━━━━\u001b[0m\u001b[37m\u001b[0m \u001b[1m0s\u001b[0m 364ms/step - accuracy: 0.9997 - loss: 0.0191\n",
            "Epoch 2: val_loss improved from 0.00404 to 0.00274, saving model to /content/drive/MyDrive/mi_modelo_checkpoint.keras\n",
            "\u001b[1m2176/2176\u001b[0m \u001b[32m━━━━━━━━━━━━━━━━━━━━\u001b[0m\u001b[37m\u001b[0m \u001b[1m985s\u001b[0m 452ms/step - accuracy: 0.9997 - loss: 0.0191 - val_accuracy: 0.9997 - val_loss: 0.0027\n",
            "Epoch 3/15\n",
            "\u001b[1m2176/2176\u001b[0m \u001b[32m━━━━━━━━━━━━━━━━━━━━\u001b[0m\u001b[37m\u001b[0m \u001b[1m0s\u001b[0m 366ms/step - accuracy: 0.9996 - loss: 0.0475\n",
            "Epoch 3: val_loss did not improve from 0.00274\n",
            "\u001b[1m2176/2176\u001b[0m \u001b[32m━━━━━━━━━━━━━━━━━━━━\u001b[0m\u001b[37m\u001b[0m \u001b[1m986s\u001b[0m 453ms/step - accuracy: 0.9996 - loss: 0.0475 - val_accuracy: 0.9997 - val_loss: 0.0028\n",
            "Epoch 4/15\n",
            "\u001b[1m2176/2176\u001b[0m \u001b[32m━━━━━━━━━━━━━━━━━━━━\u001b[0m\u001b[37m\u001b[0m \u001b[1m0s\u001b[0m 366ms/step - accuracy: 0.9997 - loss: 0.0054\n",
            "Epoch 4: val_loss did not improve from 0.00274\n",
            "\u001b[1m2176/2176\u001b[0m \u001b[32m━━━━━━━━━━━━━━━━━━━━\u001b[0m\u001b[37m\u001b[0m \u001b[1m986s\u001b[0m 453ms/step - accuracy: 0.9997 - loss: 0.0054 - val_accuracy: 0.9997 - val_loss: 0.0038\n",
            "Epoch 5/15\n",
            "\u001b[1m2176/2176\u001b[0m \u001b[32m━━━━━━━━━━━━━━━━━━━━\u001b[0m\u001b[37m\u001b[0m \u001b[1m0s\u001b[0m 362ms/step - accuracy: 0.9997 - loss: 0.0043\n",
            "Epoch 5: val_loss did not improve from 0.00274\n",
            "\u001b[1m2176/2176\u001b[0m \u001b[32m━━━━━━━━━━━━━━━━━━━━\u001b[0m\u001b[37m\u001b[0m \u001b[1m974s\u001b[0m 448ms/step - accuracy: 0.9997 - loss: 0.0043 - val_accuracy: 0.9997 - val_loss: 0.0067\n",
            "Epoch 6/15\n",
            "\u001b[1m2176/2176\u001b[0m \u001b[32m━━━━━━━━━━━━━━━━━━━━\u001b[0m\u001b[37m\u001b[0m \u001b[1m0s\u001b[0m 361ms/step - accuracy: 0.9997 - loss: 0.0058\n",
            "Epoch 6: val_loss did not improve from 0.00274\n",
            "\u001b[1m2176/2176\u001b[0m \u001b[32m━━━━━━━━━━━━━━━━━━━━\u001b[0m\u001b[37m\u001b[0m \u001b[1m977s\u001b[0m 446ms/step - accuracy: 0.9997 - loss: 0.0058 - val_accuracy: 0.9997 - val_loss: 0.0034\n",
            "Epoch 7/15\n",
            "\u001b[1m2176/2176\u001b[0m \u001b[32m━━━━━━━━━━━━━━━━━━━━\u001b[0m\u001b[37m\u001b[0m \u001b[1m0s\u001b[0m 361ms/step - accuracy: 0.9996 - loss: 0.0079\n",
            "Epoch 7: val_loss improved from 0.00274 to 0.00266, saving model to /content/drive/MyDrive/mi_modelo_checkpoint.keras\n",
            "\u001b[1m2176/2176\u001b[0m \u001b[32m━━━━━━━━━━━━━━━━━━━━\u001b[0m\u001b[37m\u001b[0m \u001b[1m974s\u001b[0m 447ms/step - accuracy: 0.9996 - loss: 0.0079 - val_accuracy: 0.9997 - val_loss: 0.0027\n",
            "Epoch 8/15\n",
            "\u001b[1m2176/2176\u001b[0m \u001b[32m━━━━━━━━━━━━━━━━━━━━\u001b[0m\u001b[37m\u001b[0m \u001b[1m0s\u001b[0m 366ms/step - accuracy: 0.9996 - loss: 0.0221\n",
            "Epoch 8: val_loss did not improve from 0.00266\n",
            "\u001b[1m2176/2176\u001b[0m \u001b[32m━━━━━━━━━━━━━━━━━━━━\u001b[0m\u001b[37m\u001b[0m \u001b[1m994s\u001b[0m 453ms/step - accuracy: 0.9996 - loss: 0.0221 - val_accuracy: 0.9997 - val_loss: 0.0043\n",
            "Epoch 9/15\n",
            "\u001b[1m2176/2176\u001b[0m \u001b[32m━━━━━━━━━━━━━━━━━━━━\u001b[0m\u001b[37m\u001b[0m \u001b[1m0s\u001b[0m 367ms/step - accuracy: 0.9997 - loss: 0.0173\n",
            "Epoch 9: val_loss did not improve from 0.00266\n",
            "\u001b[1m2176/2176\u001b[0m \u001b[32m━━━━━━━━━━━━━━━━━━━━\u001b[0m\u001b[37m\u001b[0m \u001b[1m986s\u001b[0m 453ms/step - accuracy: 0.9997 - loss: 0.0173 - val_accuracy: 0.9997 - val_loss: 0.0031\n",
            "Epoch 10/15\n",
            "\u001b[1m2176/2176\u001b[0m \u001b[32m━━━━━━━━━━━━━━━━━━━━\u001b[0m\u001b[37m\u001b[0m \u001b[1m0s\u001b[0m 362ms/step - accuracy: 0.9995 - loss: 0.0042\n",
            "Epoch 10: val_loss did not improve from 0.00266\n",
            "\u001b[1m2176/2176\u001b[0m \u001b[32m━━━━━━━━━━━━━━━━━━━━\u001b[0m\u001b[37m\u001b[0m \u001b[1m975s\u001b[0m 448ms/step - accuracy: 0.9995 - loss: 0.0042 - val_accuracy: 0.9997 - val_loss: 0.0055\n",
            "Epoch 11/15\n",
            "\u001b[1m2176/2176\u001b[0m \u001b[32m━━━━━━━━━━━━━━━━━━━━\u001b[0m\u001b[37m\u001b[0m \u001b[1m0s\u001b[0m 354ms/step - accuracy: 0.9996 - loss: 0.0045\n",
            "Epoch 11: val_loss did not improve from 0.00266\n",
            "\u001b[1m2176/2176\u001b[0m \u001b[32m━━━━━━━━━━━━━━━━━━━━\u001b[0m\u001b[37m\u001b[0m \u001b[1m972s\u001b[0m 447ms/step - accuracy: 0.9996 - loss: 0.0045 - val_accuracy: 0.9997 - val_loss: 0.0062\n",
            "Epoch 12/15\n",
            "\u001b[1m2176/2176\u001b[0m \u001b[32m━━━━━━━━━━━━━━━━━━━━\u001b[0m\u001b[37m\u001b[0m \u001b[1m0s\u001b[0m 347ms/step - accuracy: 0.9996 - loss: 0.0632\n",
            "Epoch 12: val_loss did not improve from 0.00266\n",
            "\u001b[1m2176/2176\u001b[0m \u001b[32m━━━━━━━━━━━━━━━━━━━━\u001b[0m\u001b[37m\u001b[0m \u001b[1m930s\u001b[0m 427ms/step - accuracy: 0.9996 - loss: 0.0632 - val_accuracy: 0.9997 - val_loss: 0.0038\n",
            "Epoch 13/15\n",
            "\u001b[1m2176/2176\u001b[0m \u001b[32m━━━━━━━━━━━━━━━━━━━━\u001b[0m\u001b[37m\u001b[0m \u001b[1m0s\u001b[0m 345ms/step - accuracy: 0.9995 - loss: 0.0056\n",
            "Epoch 13: val_loss did not improve from 0.00266\n",
            "\u001b[1m2176/2176\u001b[0m \u001b[32m━━━━━━━━━━━━━━━━━━━━\u001b[0m\u001b[37m\u001b[0m \u001b[1m926s\u001b[0m 425ms/step - accuracy: 0.9995 - loss: 0.0056 - val_accuracy: 0.9997 - val_loss: 0.0030\n",
            "Epoch 14/15\n",
            "\u001b[1m2176/2176\u001b[0m \u001b[32m━━━━━━━━━━━━━━━━━━━━\u001b[0m\u001b[37m\u001b[0m \u001b[1m0s\u001b[0m 342ms/step - accuracy: 0.9997 - loss: 0.0034\n",
            "Epoch 14: val_loss improved from 0.00266 to 0.00262, saving model to /content/drive/MyDrive/mi_modelo_checkpoint.keras\n",
            "\u001b[1m2176/2176\u001b[0m \u001b[32m━━━━━━━━━━━━━━━━━━━━\u001b[0m\u001b[37m\u001b[0m \u001b[1m922s\u001b[0m 424ms/step - accuracy: 0.9997 - loss: 0.0034 - val_accuracy: 0.9997 - val_loss: 0.0026\n",
            "Epoch 15/15\n",
            "\u001b[1m2176/2176\u001b[0m \u001b[32m━━━━━━━━━━━━━━━━━━━━\u001b[0m\u001b[37m\u001b[0m \u001b[1m0s\u001b[0m 338ms/step - accuracy: 0.9996 - loss: 0.0042\n",
            "Epoch 15: val_loss did not improve from 0.00262\n",
            "\u001b[1m2176/2176\u001b[0m \u001b[32m━━━━━━━━━━━━━━━━━━━━\u001b[0m\u001b[37m\u001b[0m \u001b[1m904s\u001b[0m 416ms/step - accuracy: 0.9996 - loss: 0.0042 - val_accuracy: 0.9997 - val_loss: 0.0026\n"
          ]
        },
        {
          "output_type": "stream",
          "name": "stderr",
          "text": [
            "WARNING:absl:You are saving your model as an HDF5 file via `model.save()` or `keras.saving.save_model(model)`. This file format is considered legacy. We recommend using instead the native Keras format, e.g. `model.save('my_model.keras')` or `keras.saving.save_model(model, 'my_model.keras')`. \n"
          ]
        },
        {
          "output_type": "stream",
          "name": "stdout",
          "text": [
            "Modelo guardado en Google Drive!\n"
          ]
        }
      ],
      "source": [
        "import tensorflow as tf\n",
        "from tensorflow.keras import layers, models\n",
        "from tensorflow.keras.preprocessing.image import ImageDataGenerator\n",
        "from tensorflow.keras.callbacks import ModelCheckpoint\n",
        "\n",
        "from google.colab import drive\n",
        "drive.mount('/content/drive')\n",
        "\n",
        "import kagglehub\n",
        "\n",
        "# Descargar la última versión del dataset\n",
        "path = kagglehub.dataset_download(\"grassknoted/asl-alphabet\")\n",
        "print(\"Path to dataset files:\", path)\n",
        "\n",
        "# Asignar la ruta descargada al directorio del dataset\n",
        "DIR_DATASET = path  # Asegúrate de que 'path' apunta a la carpeta correcta\n",
        "# Configuración\n",
        "IMG_SIZE = (200, 200)          # Tamaño de las imágenes\n",
        "BATCH_SIZE = 32\n",
        "EPOCHS = 15\n",
        "\n",
        "# Ruta donde se guardarán los checkpoints\n",
        "checkpoint_path = \"/content/drive/MyDrive/mi_modelo_checkpoint.keras\"\n",
        "\n",
        "# Configurar el callback para guardar el mejor modelo basado en la pérdida de validación\n",
        "checkpoint = ModelCheckpoint(\n",
        "    filepath=checkpoint_path,\n",
        "    monitor='val_loss',       # Métrica a monitorear\n",
        "    verbose=1,                # Información en consola\n",
        "    save_best_only=True,      # Guarda solo el mejor modelo\n",
        "    save_weights_only=False,   # Guarda solo los pesos\n",
        "    mode='min'                # Modo de la métrica (minimizar)\n",
        ")\n",
        "\n",
        "# Generador de datos con aumento\n",
        "train_datagen = ImageDataGenerator(\n",
        "    rescale=1.0/255,\n",
        "    rotation_range=20,\n",
        "    width_shift_range=0.2,\n",
        "    height_shift_range=0.2,\n",
        "    shear_range=0.2,\n",
        "    zoom_range=0.2,\n",
        "    horizontal_flip=True,\n",
        "    validation_split=0.2\n",
        ")\n",
        "\n",
        "# Cargar datos\n",
        "train_generator = train_datagen.flow_from_directory(\n",
        "    DIR_DATASET,\n",
        "    target_size=IMG_SIZE,\n",
        "    batch_size=BATCH_SIZE,\n",
        "    class_mode=\"categorical\",\n",
        "    subset=\"training\"\n",
        ")\n",
        "\n",
        "val_generator = train_datagen.flow_from_directory(\n",
        "    DIR_DATASET,\n",
        "    target_size=IMG_SIZE,\n",
        "    batch_size=BATCH_SIZE,\n",
        "    class_mode=\"categorical\",\n",
        "    subset=\"validation\"\n",
        ")\n",
        "\n",
        "# Construir modelo CNN\n",
        "model = models.Sequential([\n",
        "    layers.Conv2D(32, (3, 3), activation='relu', input_shape=(IMG_SIZE[0], IMG_SIZE[1], 3)),\n",
        "    layers.MaxPooling2D((2, 2)),\n",
        "    layers.Conv2D(64, (3, 3), activation='relu'),\n",
        "    layers.MaxPooling2D((2, 2)),\n",
        "    layers.Conv2D(128, (3, 3), activation='relu'),\n",
        "    layers.MaxPooling2D((2, 2)),\n",
        "    layers.Flatten(),\n",
        "    layers.Dense(256, activation='relu'),\n",
        "    layers.Dropout(0.5),\n",
        "    layers.Dense(train_generator.num_classes, activation='softmax')\n",
        "])\n",
        "\n",
        "model.compile(optimizer='adam',\n",
        "              loss='categorical_crossentropy',\n",
        "              metrics=['accuracy'])\n",
        "\n",
        "# Entrenar\n",
        "history = model.fit(\n",
        "    train_generator,\n",
        "    epochs=EPOCHS,\n",
        "    validation_data=val_generator,\n",
        "    callbacks=[checkpoint]\n",
        ")\n",
        "\n",
        "# Cargar los pesos guardados\n",
        "model.load_weights(checkpoint_path)\n",
        "\n",
        "# Guardar modelo completo\n",
        "model.save(\"/content/drive/MyDrive/mi_modelo_señas_manos.h5\")\n",
        "print(\"Modelo guardado en Google Drive!\")\n"
      ]
    }
  ]
}